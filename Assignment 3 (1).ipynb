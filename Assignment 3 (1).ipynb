{
 "cells": [
  {
   "cell_type": "code",
   "execution_count": 9,
   "id": "d7b1ac9d-eec9-4f3c-a5f1-b00dbe755b27",
   "metadata": {},
   "outputs": [
    {
     "data": {
      "text/plain": [
       "[('Virat Kohli', 24936),\n",
       " ('Jack Kallis', 25534),\n",
       " ('Ricky Ponting', 27483),\n",
       " ('Sachin Tendulkar', 34357)]"
      ]
     },
     "execution_count": 9,
     "metadata": {},
     "output_type": "execute_result"
    }
   ],
   "source": [
    "#Question 1:\n",
    "\n",
    "l = [('Sachin Tendulkar', 34357), ('Ricky Ponting',27483), ('Jack Kallis',25534), ('Virat Kohli', 24936)]\n",
    "def sort_tuple(l):\n",
    "    return(sorted(l, key= lambda x : x[1]))\n",
    "sort_tuple(l)\n",
    "    "
   ]
  },
  {
   "cell_type": "code",
   "execution_count": 18,
   "id": "8b608c75-7775-48b4-9ca2-800ee9be17d3",
   "metadata": {},
   "outputs": [
    {
     "name": "stdout",
     "output_type": "stream",
     "text": [
      "[1, 4, 9, 16, 25, 36, 49, 64, 81, 100]\n"
     ]
    }
   ],
   "source": [
    "#Question 2:\n",
    "\n",
    "l = [1,2,3,4,5,6,7,8,9,10]\n",
    "result = map(lambda x: x*x, l)\n",
    "print(list(result))\n",
    "\n"
   ]
  },
  {
   "cell_type": "code",
   "execution_count": 20,
   "id": "d6926012-5329-41fb-9eeb-4e677b6996c2",
   "metadata": {},
   "outputs": [
    {
     "name": "stdout",
     "output_type": "stream",
     "text": [
      "['1', '2', '3', '4', '5', '6', '7', '8', '9', '10']\n"
     ]
    }
   ],
   "source": [
    "#Question 3:\n",
    "string = [1,2,3,4,5,6,7,8,9,10]\n",
    "result = list(map(str, string))\n",
    "print(result)\n"
   ]
  },
  {
   "cell_type": "code",
   "execution_count": 21,
   "id": "26ed70ac-7a0e-4429-9c9f-6f4ff766e716",
   "metadata": {},
   "outputs": [
    {
     "name": "stdout",
     "output_type": "stream",
     "text": [
      "15511210043330985984000000\n"
     ]
    }
   ],
   "source": [
    "#Question 4:\n",
    "import functools\n",
    "l= [1,2,3,4,5,6,7,8,9,10,11,12,13,14,15,16,17,18,19,20,21,22,23,24,25]\n",
    "result = functools.reduce(lambda a, b : a*b, l)\n",
    "print(result)\n",
    "\n"
   ]
  },
  {
   "cell_type": "code",
   "execution_count": 28,
   "id": "89d59754-9298-41c1-bf21-281e3921f584",
   "metadata": {},
   "outputs": [
    {
     "data": {
      "text/plain": [
       "[6, 60, 90, 120]"
      ]
     },
     "execution_count": 28,
     "metadata": {},
     "output_type": "execute_result"
    }
   ],
   "source": [
    "#Question 5:\n",
    "l= [2,3,6,9,27,60,90,120,55,46]\n",
    "result = filter(lambda x: x%2==0 and x%3==0, l)\n",
    "list(result)\n"
   ]
  },
  {
   "cell_type": "code",
   "execution_count": 33,
   "id": "2b916e59-4cca-4420-a8ea-49dbb6792f11",
   "metadata": {},
   "outputs": [
    {
     "name": "stdout",
     "output_type": "stream",
     "text": [
      "['php', 'aba', 'radar', 'level']\n"
     ]
    }
   ],
   "source": [
    "#Question 6:\n",
    "\n",
    "l = ['python', 'php', 'aba', 'radar','level']\n",
    "\n",
    "result = list(filter(lambda x:(x== \"\".join(reversed(x))),l))\n",
    "print(result)"
   ]
  },
  {
   "cell_type": "code",
   "execution_count": null,
   "id": "c2f22b60-c2c5-4706-8c43-d34785e4f7a3",
   "metadata": {},
   "outputs": [],
   "source": []
  }
 ],
 "metadata": {
  "kernelspec": {
   "display_name": "Python 3 (ipykernel)",
   "language": "python",
   "name": "python3"
  },
  "language_info": {
   "codemirror_mode": {
    "name": "ipython",
    "version": 3
   },
   "file_extension": ".py",
   "mimetype": "text/x-python",
   "name": "python",
   "nbconvert_exporter": "python",
   "pygments_lexer": "ipython3",
   "version": "3.10.8"
  }
 },
 "nbformat": 4,
 "nbformat_minor": 5
}
